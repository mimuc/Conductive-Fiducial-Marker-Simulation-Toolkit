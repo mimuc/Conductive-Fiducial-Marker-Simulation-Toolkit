{
 "cells": [
  {
   "cell_type": "markdown",
   "id": "accessible-mountain",
   "metadata": {},
   "source": [
    "# Recognizer Model Traning & Evalidation\n",
    "By Benedict Steuerlein and Sven Mayer \n",
    "\n",
    "This script is just for showcasing purposes, the resuls are of this script are not reported in the paper. However, all number reported can be recreated based on this script by filtering the classes needed. "
   ]
  },
  {
   "cell_type": "code",
   "execution_count": 1,
   "id": "colored-community",
   "metadata": {},
   "outputs": [
    {
     "name": "stdout",
     "output_type": "stream",
     "text": [
      "Python version:  3.8.10 (default, Mar 15 2022, 12:22:08) \n",
      "[GCC 9.4.0]\n",
      "numpy version 1.23.1\n",
      "matplotlib version 3.5.2\n",
      "TF: 2.9.1\n"
     ]
    }
   ],
   "source": [
    "import sys\n",
    "print(\"Python version: \", sys.version)\n",
    "import numpy as np\n",
    "print(\"numpy version\", np.__version__)\n",
    "import pandas as pd\n",
    "import itertools\n",
    "import random\n",
    "\n",
    "import matplotlib\n",
    "import matplotlib.pyplot as plt\n",
    "print(\"matplotlib version\", matplotlib.__version__)\n",
    "\n",
    "import imutils\n",
    "\n",
    "from tqdm import tqdm\n",
    "tqdm.pandas()\n",
    "\n",
    "from sklearn.preprocessing import OneHotEncoder \n",
    "from sklearn.metrics import accuracy_score\n",
    "from sklearn.metrics import confusion_matrix\n",
    "\n",
    "from perlin_numpy import generate_perlin_noise_3d\n",
    "\n",
    "import tensorflow as tf\n",
    "print(\"tensorflow version\", tf.__version__)\n",
    "\n",
    "physical_devices = tf.config.experimental.list_physical_devices('GPU')\n",
    "if len(physical_devices) > 0:\n",
    "    tf.config.set_visible_devices(physical_devices[0], 'GPU')\n",
    "    tf.config.experimental.set_memory_growth(physical_devices[0], True)\n",
    "\n",
    "import simulate\n",
    "import process\n",
    "import recognizer\n",
    "\n",
    "from pathlib import Path\n",
    "Path(\"./figures\").mkdir(parents=True, exist_ok=True)"
   ]
  },
  {
   "cell_type": "code",
   "execution_count": 2,
   "id": "incomplete-storm",
   "metadata": {},
   "outputs": [
    {
     "name": "stderr",
     "output_type": "stream",
     "text": [
      "2022-07-11 23:30:19.565736: I tensorflow/core/platform/cpu_feature_guard.cc:193] This TensorFlow binary is optimized with oneAPI Deep Neural Network Library (oneDNN) to use the following CPU instructions in performance-critical operations:  AVX2 AVX512F FMA\n",
      "To enable them in other operations, rebuild TensorFlow with the appropriate compiler flags.\n",
      "2022-07-11 23:30:20.841657: I tensorflow/core/common_runtime/gpu/gpu_device.cc:1532] Created device /job:localhost/replica:0/task:0/device:GPU:0 with 24881 MB memory:  -> device: 0, name: Tesla V100-SXM2-32GB, pci bus id: 0000:62:00.0, compute capability: 7.0\n"
     ]
    }
   ],
   "source": [
    "DATA_PATH = \"./data/\"\n",
    "MARKER_PATH = \"./markers_official/\"\n",
    "\n",
    "simulator = tf.keras.models.load_model(\"./model_simulator/\", compile = False)"
   ]
  },
  {
   "cell_type": "markdown",
   "id": "powered-award",
   "metadata": {},
   "source": [
    "# DataGenerator\n",
    "\n",
    "### Generates training data for classifier on the fly\n",
    "\n",
    "1. Load templates for ids\n",
    "2. Apply noise to template\n",
    "3. Let GAN predict on template \n",
    "4. GAN results == x_true\n",
    "5. Y_class == respective OneHot-Vectors\n",
    "6. Y_rot == angle in radians (degree doesn't work well, error with radians is ~90degree) \n",
    "7. Yield list x_true, y_class, y_rot\n",
    "\n",
    "Technically we can generate an infinite amount of training data just by augmenting with noise.\n",
    "However, per epoch we do not want to simulate markers randomly (e.g. simulate only Marker with ID 10) but simulate every marker in every roatition and size - the random noise and shifting of markers will do the trick\n"
   ]
  },
  {
   "cell_type": "code",
   "execution_count": 3,
   "id": "stupid-scanning",
   "metadata": {},
   "outputs": [],
   "source": [
    "class DataGenerator:\n",
    "    def __init__(self, simulator, df, batch_size = 64, shuffle = True):\n",
    "        self.batch_size = batch_size\n",
    "        self.shuffle = shuffle\n",
    "        self.df = df\n",
    "        self.simulator = simulator\n",
    "    \n",
    "    def __applyPerlin__(self, markers):\n",
    "        noise = generate_perlin_noise_3d((self.batch_size, 32, 32), (1, (np.random.randint(2) + 1)*2, (np.random.randint(2) + 1)*2), tileable=(True, False, False)).reshape(self.batch_size, 32, 32, 1)\n",
    "        return markers + ((markers+1)*noise)\n",
    "    \n",
    "    def __call__(self, shuffle=True):\n",
    "        \n",
    "        while True:\n",
    "            indexs = np.arange(len(self.df))\n",
    "            if self.shuffle:\n",
    "                np.random.shuffle(indexs)\n",
    "\n",
    "            for x in range(len(self.df)//self.batch_size):\n",
    "                idx = indexs[np.arange(x*self.batch_size, (x+1)*self.batch_size)]\n",
    "\n",
    "                X = np.stack(self.df.Simulation.iloc[idx]).reshape(self.batch_size, 32, 32, 1)\n",
    "                X = self.__applyPerlin__(X)\n",
    "                \n",
    "                y_class = np.stack(self.df.Target.iloc[idx].values)\n",
    "                y_rot = np.vstack(self.df.SinCos.iloc[idx].values)\n",
    "\n",
    "                yield X, (y_class, y_rot)\n",
    "                "
   ]
  },
  {
   "cell_type": "markdown",
   "id": "electoral-bumper",
   "metadata": {},
   "source": [
    "### Prepare markers permutations"
   ]
  },
  {
   "cell_type": "code",
   "execution_count": 4,
   "id": "three-migration",
   "metadata": {},
   "outputs": [],
   "source": [
    "sizes = [8]\n",
    "shift_amount = [-1,0,1]\n",
    "rotations = np.arange(360)\n",
    "\n",
    "markerTypeId = [['16h5', 10], ['16h5', 11], ['16h5', 12], ['16h5', 13], ['16h5', 14], ['16h5', 15], ['16h5', 16], ['16h5', 17], ['16h5', 18], ['16h5', 19]]\n",
    "product = list(itertools.product(*[sizes, rotations, shift_amount, shift_amount]))\n",
    "to_sim = [list(item[0]) + list(item[1]) for item in list(itertools.product(*[markerTypeId, product]))]\n",
    "len(to_sim)\n",
    "\n",
    "df = pd.DataFrame(data = to_sim, columns = ['MarkerType', 'Id', 'Size', 'Angle', 'Shift0', 'Shift1'])\n",
    "df['Angle'] = df.Angle.astype(np.float32)\n",
    "\n",
    "df.head()\n",
    "\n",
    "# Get unique pairs of marker, id and size\n",
    "uniqueMakers = df.groupby(['MarkerType', 'Id', 'Size']).indices.keys()\n",
    "\n",
    "# (Re)Map unique pairs to a unique id\n",
    "uid = dict(zip(uniqueMakers, list(range(len(uniqueMakers)))))\n",
    "re_uid = dict(zip(uid.values(),uid.keys()))\n",
    "\n",
    "df['U_Id'] = df.apply(lambda r: uid[(r.MarkerType, r.Id, r.Size)], axis = 1)"
   ]
  },
  {
   "cell_type": "code",
   "execution_count": 5,
   "id": "179f43cd-e037-48e5-98e8-fbeb9b71d774",
   "metadata": {},
   "outputs": [
    {
     "data": {
      "text/html": [
       "<div>\n",
       "<style scoped>\n",
       "    .dataframe tbody tr th:only-of-type {\n",
       "        vertical-align: middle;\n",
       "    }\n",
       "\n",
       "    .dataframe tbody tr th {\n",
       "        vertical-align: top;\n",
       "    }\n",
       "\n",
       "    .dataframe thead th {\n",
       "        text-align: right;\n",
       "    }\n",
       "</style>\n",
       "<table border=\"1\" class=\"dataframe\">\n",
       "  <thead>\n",
       "    <tr style=\"text-align: right;\">\n",
       "      <th></th>\n",
       "      <th>MarkerType</th>\n",
       "      <th>Size</th>\n",
       "      <th>MarkerCount</th>\n",
       "    </tr>\n",
       "  </thead>\n",
       "  <tbody>\n",
       "    <tr>\n",
       "      <th>0</th>\n",
       "      <td>16h5</td>\n",
       "      <td>8</td>\n",
       "      <td>10</td>\n",
       "    </tr>\n",
       "  </tbody>\n",
       "</table>\n",
       "</div>"
      ],
      "text/plain": [
       "  MarkerType  Size  MarkerCount\n",
       "0       16h5     8           10"
      ]
     },
     "execution_count": 5,
     "metadata": {},
     "output_type": "execute_result"
    }
   ],
   "source": [
    "df.groupby([\"MarkerType\", \"Size\"]).apply(lambda e: len(e.Id.unique())).reset_index().rename(columns = {0:\"MarkerCount\"})"
   ]
  },
  {
   "cell_type": "markdown",
   "id": "9e1b8210-7703-4da6-9685-1a1166d87525",
   "metadata": {},
   "source": [
    "# Simulate Templates"
   ]
  },
  {
   "cell_type": "code",
   "execution_count": 6,
   "id": "2f50ed99-c230-4e0e-bc8e-7519d419903a",
   "metadata": {},
   "outputs": [
    {
     "name": "stderr",
     "output_type": "stream",
     "text": [
      "100%|██████████| 32400/32400 [00:08<00:00, 3867.73it/s]\n",
      "100%|██████████| 32400/32400 [00:02<00:00, 15390.95it/s]\n",
      "  0%|          | 0/32 [00:00<?, ?it/s]2022-07-11 23:30:37.171035: I tensorflow/stream_executor/cuda/cuda_dnn.cc:384] Loaded cuDNN version 8401\n",
      "2022-07-11 23:30:38.022324: I tensorflow/core/platform/default/subprocess.cc:304] Start cannot spawn child process: No such file or directory\n",
      "100%|██████████| 32/32 [00:26<00:00,  1.19it/s]\n"
     ]
    }
   ],
   "source": [
    "# As the template is 4 times larger than the capactive image we need to shift it factors * 4.\n",
    "def shiftTemplate(row):\n",
    "    template = np.roll(row.Template, row.Shift0 * 4, axis = 0)\n",
    "    return np.roll(template, row.Shift1 * 4, axis = 1)\n",
    "\n",
    "df[\"Template\"] = df.progress_apply(lambda e: simulate.load_tag(e.Size, e.MarkerType, e.Id, e.Angle, MARKER_PATH = MARKER_PATH), axis=1)\n",
    "df.Template = df.Template /127.5 -1. \n",
    "df.Template = df.progress_apply(lambda e: shiftTemplate(e), axis = 1)\n",
    "\n",
    "batch_size = 1024 # Lower if the GPU can't handle as many. \n",
    "simulations = []\n",
    "for i in tqdm(range(0,len(df),batch_size)):\n",
    "    x = df.Template.iloc[i:i+batch_size].values\n",
    "    x = np.expand_dims(np.stack(x), axis = 3)\n",
    "    simulations.append(simulator.predict(x, verbose=0,  use_multiprocessing=True, batch_size=batch_size))\n",
    "    \n",
    "df['Simulation'] = list(np.vstack(simulations).reshape(-1,32,32))\n",
    "\n",
    "# Change degree values of angles to radians\n",
    "df['AngleRad'] = np.radians(df['Angle'])\n",
    "df['SinCos'] = df.AngleRad.apply(lambda e: np.array([np.sin(e), np.cos(e)]))\n",
    "df['AngleDegNew'] = df.SinCos.apply(lambda x: np.rad2deg(np.arctan2(x[0], x[1])))\n",
    "\n",
    "#Prepare and train the recognizer\n",
    "nb_classes = len(df.U_Id.unique())        \n",
    "group_mapper = dict(zip(df.U_Id.unique(), np.arange(nb_classes)))\n",
    "one_hot_targets = np.eye(nb_classes)\n",
    "\n",
    "df['U_Id_Group'] = df.U_Id.apply(lambda e: group_mapper[e])\n",
    "df['Target'] = df.U_Id_Group.apply(lambda e: one_hot_targets[int(e)])\n"
   ]
  },
  {
   "cell_type": "code",
   "execution_count": 7,
   "id": "80daf2cc-93d9-4baf-ad27-da7cd0c36e6e",
   "metadata": {},
   "outputs": [
    {
     "data": {
      "image/png": "[encoded data removed]",
      "text/plain": [
       "<Figure size 720x360 with 2 Axes>"
      ]
     },
     "metadata": {
      "needs_background": "light"
     },
     "output_type": "display_data"
    }
   ],
   "source": [
    "e = df.iloc[0]\n",
    "fig, ax = plt.subplots(1,2, figsize=(10,5))\n",
    "ax[0].imshow(e.Template)\n",
    "ax[1].imshow(e.Simulation)\n",
    "plt.suptitle(f\"{e.MarkerType} ID{e.Id} {e.Size}mm -- U_Id{e.U_Id}\")\n",
    "plt.show()"
   ]
  },
  {
   "cell_type": "markdown",
   "id": "asian-sauce",
   "metadata": {},
   "source": [
    "# Filter only markers wanted in the Recognizer Model"
   ]
  },
  {
   "cell_type": "code",
   "execution_count": 8,
   "id": "f600fdb2-616d-49ba-90dc-d7bab99df1e3",
   "metadata": {},
   "outputs": [
    {
     "name": "stdout",
     "output_type": "stream",
     "text": [
      "Available Settings:\n",
      "Marker ['16h5']\n",
      "Size [8]\n"
     ]
    }
   ],
   "source": [
    "print(\"Available Settings:\")\n",
    "print(\"Marker\", df.MarkerType.unique())\n",
    "print(\"Size\", df.Size.unique())"
   ]
  },
  {
   "cell_type": "code",
   "execution_count": 9,
   "id": "f1960356-eeaf-45c7-9921-a52db568ac64",
   "metadata": {},
   "outputs": [],
   "source": [
    "datasetsPaths = [f\"{DATA_PATH}36h11_validation.pkl\", f\"{DATA_PATH}16h5_validation.pkl\"]\n",
    "lstdfs = []\n",
    "for p in datasetsPaths:\n",
    "    lstdfs.append(pd.read_pickle(p))\n",
    "df_val = pd.concat(lstdfs)\n",
    "df_val = df_val[df_val.MarkerType.isin(df.MarkerType.unique()) & df_val.Size.isin(df.Size.unique()) & df_val.Id.isin(df.Id.unique())]\n",
    "df_val.reset_index(drop = True, inplace = True)\n",
    "\n",
    "df_val['Angle'] = df_val.Angle.astype(np.float32)\n",
    "df_val['AngleRad'] = np.radians(df_val['Angle'])\n",
    "df_val['SinCos'] = df_val.AngleRad.apply(lambda e: (np.sin(e), np.cos(e)))\n",
    "df_val['AngleDegNew'] = df_val.SinCos.apply(lambda x: np.rad2deg(np.arctan2(x[0],x[1])))\n",
    "\n",
    "df_val['U_Id'] = df_val.apply(lambda r: uid[(r.MarkerType, r.Id, r.Size)], axis = 1)\n",
    "\n",
    "df_val.groupby([\"MarkerType\", \"Size\"]).apply(lambda e: len(e.Id.unique())).reset_index().rename(columns = {0:\"MarkerCount\"})\n",
    "\n",
    "df_val['U_Id_Group'] = df_val.U_Id.apply(lambda e: group_mapper[e])\n",
    "df_val['Target'] = df_val.U_Id_Group.apply(lambda e: one_hot_targets[int(e)])"
   ]
  },
  {
   "cell_type": "code",
   "execution_count": 10,
   "id": "fe56540b-7819-4a91-a25c-3a6a1a8dbf20",
   "metadata": {},
   "outputs": [
    {
     "data": {
      "image/png": "[encoded data removed]",
      "text/plain": [
       "<Figure size 720x360 with 1 Axes>"
      ]
     },
     "metadata": {
      "needs_background": "light"
     },
     "output_type": "display_data"
    }
   ],
   "source": [
    "e = df_val.iloc[0]\n",
    "fig, ax = plt.subplots(1,1, figsize=(10,5))\n",
    "ax.imshow(e.Blob)\n",
    "plt.suptitle(f\"{e.MarkerType} ID{e.Id} {e.Size}mm -- U_Id{e.U_Id}\")\n",
    "plt.show()"
   ]
  },
  {
   "cell_type": "code",
   "execution_count": 11,
   "id": "satisfactory-florist",
   "metadata": {},
   "outputs": [
    {
     "name": "stdout",
     "output_type": "stream",
     "text": [
      "tensorflow verion: 2.9.1\n",
      "Model: \"recognizer\"\n",
      "__________________________________________________________________________________________________\n",
      " Layer (type)                   Output Shape         Param #     Connected to                     \n",
      "==================================================================================================\n",
      " input (InputLayer)             [(None, 32, 32, 1)]  0           []                               \n",
      "                                                                                                  \n",
      " Conv0 (Conv2D)                 (None, 32, 32, 64)   640         ['input[0][0]']                  \n",
      "                                                                                                  \n",
      " Conv1 (Conv2D)                 (None, 32, 32, 64)   36928       ['Conv0[0][0]']                  \n",
      "                                                                                                  \n",
      " BatchNorm0 (BatchNormalization  (None, 32, 32, 64)  256         ['Conv1[0][0]']                  \n",
      " )                                                                                                \n",
      "                                                                                                  \n",
      " MaxPool0 (MaxPooling2D)        (None, 16, 16, 64)   0           ['BatchNorm0[0][0]']             \n",
      "                                                                                                  \n",
      " dropout (Dropout)              (None, 16, 16, 64)   0           ['MaxPool0[0][0]']               \n",
      "                                                                                                  \n",
      " Conv2 (Conv2D)                 (None, 16, 16, 128)  73856       ['dropout[0][0]']                \n",
      "                                                                                                  \n",
      " Conv3 (Conv2D)                 (None, 16, 16, 128)  147584      ['Conv2[0][0]']                  \n",
      "                                                                                                  \n",
      " BatchNorm1 (BatchNormalization  (None, 16, 16, 128)  512        ['Conv3[0][0]']                  \n",
      " )                                                                                                \n",
      "                                                                                                  \n",
      " MaxPool1 (MaxPooling2D)        (None, 8, 8, 128)    0           ['BatchNorm1[0][0]']             \n",
      "                                                                                                  \n",
      " dropout_1 (Dropout)            (None, 8, 8, 128)    0           ['MaxPool1[0][0]']               \n",
      "                                                                                                  \n",
      " ConvC1 (Conv2D)                (None, 8, 8, 128)    147584      ['dropout_1[0][0]']              \n",
      "                                                                                                  \n",
      " ConvR1 (Conv2D)                (None, 8, 8, 128)    147584      ['dropout_1[0][0]']              \n",
      "                                                                                                  \n",
      " ConvC2 (Conv2D)                (None, 8, 8, 64)     73792       ['ConvC1[0][0]']                 \n",
      "                                                                                                  \n",
      " ConvR2 (Conv2D)                (None, 8, 8, 64)     73792       ['ConvR1[0][0]']                 \n",
      "                                                                                                  \n",
      " BatchNormC1 (BatchNormalizatio  (None, 8, 8, 64)    256         ['ConvC2[0][0]']                 \n",
      " n)                                                                                               \n",
      "                                                                                                  \n",
      " BatchNormR1 (BatchNormalizatio  (None, 8, 8, 64)    256         ['ConvR2[0][0]']                 \n",
      " n)                                                                                               \n",
      "                                                                                                  \n",
      " MaxPoolC1 (MaxPooling2D)       (None, 4, 4, 64)     0           ['BatchNormC1[0][0]']            \n",
      "                                                                                                  \n",
      " MaxPoolR1 (MaxPooling2D)       (None, 4, 4, 64)     0           ['BatchNormR1[0][0]']            \n",
      "                                                                                                  \n",
      " dropout_2 (Dropout)            (None, 4, 4, 64)     0           ['MaxPoolC1[0][0]']              \n",
      "                                                                                                  \n",
      " dropout_4 (Dropout)            (None, 4, 4, 64)     0           ['MaxPoolR1[0][0]']              \n",
      "                                                                                                  \n",
      " flatten (Flatten)              (None, 1024)         0           ['dropout_2[0][0]']              \n",
      "                                                                                                  \n",
      " flatten_1 (Flatten)            (None, 1024)         0           ['dropout_4[0][0]']              \n",
      "                                                                                                  \n",
      " dense (Dense)                  (None, 512)          524800      ['flatten[0][0]']                \n",
      "                                                                                                  \n",
      " dense_1 (Dense)                (None, 512)          524800      ['flatten_1[0][0]']              \n",
      "                                                                                                  \n",
      " BatchNormC2 (BatchNormalizatio  (None, 512)         2048        ['dense[0][0]']                  \n",
      " n)                                                                                               \n",
      "                                                                                                  \n",
      " BatchNormR2 (BatchNormalizatio  (None, 512)         2048        ['dense_1[0][0]']                \n",
      " n)                                                                                               \n",
      "                                                                                                  \n",
      " dropout_3 (Dropout)            (None, 512)          0           ['BatchNormC2[0][0]']            \n",
      "                                                                                                  \n",
      " dropout_5 (Dropout)            (None, 512)          0           ['BatchNormR2[0][0]']            \n",
      "                                                                                                  \n",
      " class_output (Dense)           (None, 10)           5130        ['dropout_3[0][0]']              \n",
      "                                                                                                  \n",
      " rot_output (Dense)             (None, 2)            1026        ['dropout_5[0][0]']              \n",
      "                                                                                                  \n",
      "==================================================================================================\n",
      "Total params: 1,762,892\n",
      "Trainable params: 1,760,204\n",
      "Non-trainable params: 2,688\n",
      "__________________________________________________________________________________________________\n",
      "None\n",
      "Epoch 1/10\n",
      "405/405 [==============================] - 19s 43ms/step - loss: 2.2639 - class_output_loss: 1.3808 - rot_output_loss: 0.8831 - class_output_categorical_accuracy: 0.5388 - rot_output_angular_error: 0.8831 - val_loss: 1.1040 - val_class_output_loss: 0.4848 - val_rot_output_loss: 0.6193 - val_class_output_categorical_accuracy: 0.8374 - val_rot_output_angular_error: 0.6193\n",
      "Epoch 2/10\n",
      "405/405 [==============================] - 17s 42ms/step - loss: 0.9869 - class_output_loss: 0.3774 - rot_output_loss: 0.6095 - class_output_categorical_accuracy: 0.8625 - rot_output_angular_error: 0.6095 - val_loss: 0.5773 - val_class_output_loss: 0.1247 - val_rot_output_loss: 0.4526 - val_class_output_categorical_accuracy: 0.9573 - val_rot_output_angular_error: 0.4526\n",
      "Epoch 3/10\n",
      "405/405 [==============================] - 16s 41ms/step - loss: 0.7073 - class_output_loss: 0.1995 - rot_output_loss: 0.5079 - class_output_categorical_accuracy: 0.9328 - rot_output_angular_error: 0.5079 - val_loss: 0.3504 - val_class_output_loss: 0.0423 - val_rot_output_loss: 0.3081 - val_class_output_categorical_accuracy: 0.9881 - val_rot_output_angular_error: 0.3081\n",
      "Epoch 4/10\n",
      "405/405 [==============================] - 16s 40ms/step - loss: 0.5496 - class_output_loss: 0.1272 - rot_output_loss: 0.4224 - class_output_categorical_accuracy: 0.9554 - rot_output_angular_error: 0.4224 - val_loss: 0.2991 - val_class_output_loss: 0.0336 - val_rot_output_loss: 0.2655 - val_class_output_categorical_accuracy: 0.9887 - val_rot_output_angular_error: 0.2655\n",
      "Epoch 5/10\n",
      "405/405 [==============================] - 16s 40ms/step - loss: 0.4734 - class_output_loss: 0.0972 - rot_output_loss: 0.3762 - class_output_categorical_accuracy: 0.9657 - rot_output_angular_error: 0.3762 - val_loss: 0.2607 - val_class_output_loss: 0.0209 - val_rot_output_loss: 0.2399 - val_class_output_categorical_accuracy: 0.9923 - val_rot_output_angular_error: 0.2399\n",
      "Epoch 6/10\n",
      "405/405 [==============================] - 15s 38ms/step - loss: 0.4244 - class_output_loss: 0.0792 - rot_output_loss: 0.3451 - class_output_categorical_accuracy: 0.9733 - rot_output_angular_error: 0.3451 - val_loss: 0.2022 - val_class_output_loss: 0.0065 - val_rot_output_loss: 0.1957 - val_class_output_categorical_accuracy: 0.9988 - val_rot_output_angular_error: 0.1957\n",
      "Epoch 7/10\n",
      "405/405 [==============================] - 15s 36ms/step - loss: 0.3856 - class_output_loss: 0.0658 - rot_output_loss: 0.3199 - class_output_categorical_accuracy: 0.9772 - rot_output_angular_error: 0.3199 - val_loss: 0.2164 - val_class_output_loss: 0.0138 - val_rot_output_loss: 0.2027 - val_class_output_categorical_accuracy: 0.9958 - val_rot_output_angular_error: 0.2027\n",
      "Epoch 8/10\n",
      "405/405 [==============================] - 14s 34ms/step - loss: 0.3718 - class_output_loss: 0.0650 - rot_output_loss: 0.3068 - class_output_categorical_accuracy: 0.9774 - rot_output_angular_error: 0.3068 - val_loss: 0.1660 - val_class_output_loss: 0.0028 - val_rot_output_loss: 0.1632 - val_class_output_categorical_accuracy: 0.9994 - val_rot_output_angular_error: 0.1632\n",
      "Epoch 9/10\n",
      "405/405 [==============================] - 14s 35ms/step - loss: 0.3474 - class_output_loss: 0.0546 - rot_output_loss: 0.2928 - class_output_categorical_accuracy: 0.9811 - rot_output_angular_error: 0.2928 - val_loss: 0.1696 - val_class_output_loss: 0.0035 - val_rot_output_loss: 0.1661 - val_class_output_categorical_accuracy: 0.9989 - val_rot_output_angular_error: 0.1661\n",
      "Epoch 10/10\n",
      "405/405 [==============================] - 14s 34ms/step - loss: 0.3350 - class_output_loss: 0.0493 - rot_output_loss: 0.2857 - class_output_categorical_accuracy: 0.9829 - rot_output_angular_error: 0.2857 - val_loss: 0.1820 - val_class_output_loss: 0.0033 - val_rot_output_loss: 0.1787 - val_class_output_categorical_accuracy: 0.9991 - val_rot_output_angular_error: 0.1787\n",
      "4546/4546 [==============================] - 24s 5ms/step\n"
     ]
    }
   ],
   "source": [
    "# Set Hyperparamter for recognizer training\n",
    "\n",
    "batch_size = 64\n",
    "epochs = 10\n",
    "\n",
    "\n",
    "# Split dataframe into train/val\n",
    "index = list(df.index)\n",
    "np.random.shuffle(index)\n",
    "\n",
    "t_split = .8\n",
    "\n",
    "idx_t = index[:int(t_split * len(index))]\n",
    "idx_v = index[int(t_split * len(index)):]\n",
    "\n",
    "df['Datatype'] = -1\n",
    "df.loc[idx_t, 'Datatype'] = 'train'\n",
    "df.loc[idx_v, 'Datatype'] = 'val'\n",
    "\n",
    "# Init data generators for train and test using the simulator model\n",
    "gen_train = DataGenerator(simulator, df[df.Datatype == 'train'], batch_size=batch_size)\n",
    "gen_val = DataGenerator(simulator, df[df.Datatype == 'val'], batch_size=batch_size)\n",
    "\n",
    "dataset_train = tf.data.Dataset.from_generator(gen_train, \n",
    "                                     output_signature=(\n",
    "     tf.TensorSpec(shape=(batch_size, 32, 32, 1), dtype=tf.float32),\n",
    "     (tf.TensorSpec(shape=(batch_size, nb_classes), dtype=tf.float32),\n",
    "     tf.TensorSpec(shape=(batch_size, 2), dtype=tf.float32)))).prefetch(tf.data.AUTOTUNE)\n",
    "\n",
    "dataset_val = tf.data.Dataset.from_generator(gen_val, \n",
    "                                     output_signature=(\n",
    "     tf.TensorSpec(shape=(batch_size, 32, 32, 1), dtype=tf.float32),\n",
    "     (tf.TensorSpec(shape=(batch_size, nb_classes), dtype=tf.float32),\n",
    "     tf.TensorSpec(shape=(batch_size, 2), dtype=tf.float32)))).prefetch(tf.data.AUTOTUNE)\n",
    "\n",
    "steps_train = len(df[df.Datatype == 'train'])//batch_size\n",
    "steps_val = len(df[df.Datatype == 'val'])//batch_size\n",
    "\n",
    "#train recognizer\n",
    "classifier = recognizer.Recognizer(dataset_train, dataset_val, nb_classes, steps_train, steps_val)\n",
    "history = classifier.train(batch_size = batch_size, epochs = epochs)\n",
    "\n",
    "del gen_train\n",
    "del gen_val\n",
    "\n",
    "# test recognizer quality\n",
    "x_val = np.stack((df_val.Blob/127.5 - 1.).values).reshape(-1,32,32,1)\n",
    "y_class_true = np.argmax(np.stack(df_val.Target.values), axis = 1)\n",
    "\n",
    "class_pred, rot_pred = classifier.model.predict(x_val)\n",
    "\n",
    "class_pred = np.argmax(class_pred, axis = 1)\n",
    "\n",
    "cm = confusion_matrix(y_class_true, class_pred, labels=range(nb_classes))\n",
    "accuracy = accuracy_score(y_true=y_class_true, y_pred=class_pred)\n",
    "\n",
    "rot_pred_rad = np.arctan2(rot_pred[:,0], rot_pred[:,1])\n",
    "rot_true = rot_true = df_val.AngleRad.values\n",
    "rot_error = np.rad2deg(((rot_pred_rad-rot_true + np.pi)%(2*np.pi))-np.pi)\n",
    "\n",
    "\n",
    "res = {\n",
    "    'Accuracy':accuracy,\n",
    "    'Rotation_Errors':rot_error,\n",
    "    'Confusion':cm\n",
    "}"
   ]
  },
  {
   "cell_type": "code",
   "execution_count": 12,
   "id": "cb3cd855-2c62-400a-ae6d-c7f6961f58e4",
   "metadata": {},
   "outputs": [],
   "source": [
    "group_mapperT = dict((v,k) for k,v in group_mapper.items())\n",
    "lstMarkerNames = []\n",
    "for k in sorted(group_mapperT.keys()):\n",
    "    x = re_uid[group_mapperT[k]]\n",
    "    lstMarkerNames.append(f\"{x[0]} ID{x[1]} {x[2]}mm\")"
   ]
  },
  {
   "cell_type": "code",
   "execution_count": 13,
   "id": "78449219-efae-4549-abd4-2e973c673120",
   "metadata": {},
   "outputs": [
    {
     "data": {
      "text/plain": [
       "<matplotlib.legend.Legend at 0x7f2e75eefe80>"
      ]
     },
     "execution_count": 13,
     "metadata": {},
     "output_type": "execute_result"
    },
    {
     "data": {
      "image/png": "[encoded data removed]",
      "text/plain": [
       "<Figure size 432x288 with 1 Axes>"
      ]
     },
     "metadata": {
      "needs_background": "light"
     },
     "output_type": "display_data"
    }
   ],
   "source": [
    "plt.plot(np.array(history.history[\"class_output_categorical_accuracy\"])*100, label=\"Train\")\n",
    "plt.plot(np.array(history.history[\"val_class_output_categorical_accuracy\"])*100, label=\"Validation\")\n",
    "plt.ylabel(\"Accuracy [%]\")\n",
    "plt.xlabel(\"Epochs\")\n",
    "plt.legend()"
   ]
  },
  {
   "cell_type": "code",
   "execution_count": 14,
   "id": "39e5a206-8fa0-49e7-8708-6946a3ed4c86",
   "metadata": {},
   "outputs": [
    {
     "data": {
      "text/plain": [
       "<matplotlib.legend.Legend at 0x7f2e767d4250>"
      ]
     },
     "execution_count": 14,
     "metadata": {},
     "output_type": "execute_result"
    },
    {
     "data": {
      "image/png": "[encoded data removed]",
      "text/plain": [
       "<Figure size 432x288 with 1 Axes>"
      ]
     },
     "metadata": {
      "needs_background": "light"
     },
     "output_type": "display_data"
    }
   ],
   "source": [
    "plt.plot(np.rad2deg(history.history[\"rot_output_angular_error\"]), label=\"Train\")\n",
    "plt.plot(np.rad2deg(history.history[\"val_rot_output_angular_error\"]), label=\"Validation\")\n",
    "plt.ylabel(\"Angular Error [deg]\")\n",
    "plt.xlabel(\"Epochs\")\n",
    "plt.legend()"
   ]
  },
  {
   "cell_type": "code",
   "execution_count": 15,
   "id": "impaired-detective",
   "metadata": {},
   "outputs": [
    {
     "data": {
      "image/png": "[encoded data removed]",
      "text/plain": [
       "<Figure size 432x288 with 2 Axes>"
      ]
     },
     "metadata": {
      "needs_background": "light"
     },
     "output_type": "display_data"
    }
   ],
   "source": [
    "from sklearn.preprocessing import normalize\n",
    "from sklearn.metrics import ConfusionMatrixDisplay\n",
    "\n",
    "matrix = res[\"Confusion\"]# confusion_matrix(res[\"Confusion\"])\n",
    "#matrix = df_results.iloc[0].Confusion\n",
    "# array([[  0.,   3.,   6.],\n",
    "#        [  9.,  12.,  15.],\n",
    "#        [ 18.,  21.,  24.]])\n",
    "\n",
    "normed_matrix = normalize(matrix, axis=1, norm='l1')\n",
    "#fig, ax = plt.subplots(1, figsize = (20,20))\n",
    "disp = ConfusionMatrixDisplay(confusion_matrix = normed_matrix.round(2), \n",
    "                              display_labels = lstMarkerNames)\n",
    "disp.plot(cmap = plt.cm.Blues)\n",
    "ax = disp.ax_\n",
    "ax.set_xticks(np.arange(nb_classes))\n",
    "#ax.set_yticklabels([re_uid[x] for x in df_results.iloc[-1].Classes])\n",
    "ax.set_ylabel('True Label')\n",
    "ax.set_xlabel('Predicted Label')\n",
    "\n",
    "ax.set_xticklabels(lstMarkerNames, rotation = -90)\n",
    "plt.show()"
   ]
  }
 ],
 "metadata": {
  "kernelspec": {
   "display_name": "Python 3 (ipykernel)",
   "language": "python",
   "name": "python3"
  },
  "language_info": {
   "codemirror_mode": {
    "name": "ipython",
    "version": 3
   },
   "file_extension": ".py",
   "mimetype": "text/x-python",
   "name": "python",
   "nbconvert_exporter": "python",
   "pygments_lexer": "ipython3",
   "version": "3.8.10"
  }
 },
 "nbformat": 4,
 "nbformat_minor": 5
}
