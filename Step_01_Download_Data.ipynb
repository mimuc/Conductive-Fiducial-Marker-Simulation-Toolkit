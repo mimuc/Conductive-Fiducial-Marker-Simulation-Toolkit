{
 "cells": [
  {
   "cell_type": "code",
   "execution_count": 1,
   "id": "93d54dfb-8f07-48d8-a550-a2194d0f98a4",
   "metadata": {},
   "outputs": [],
   "source": [
    "import wget\n",
    "\n",
    "DATA_PATH = \"./data/\"\n",
    "\n",
    "file = open(f'{DATA_PATH}files.txt', 'r')\n",
    "files = []\n",
    "for l in file.readlines():\n",
    "    files.append(l.rstrip())\n",
    "\n",
    "for f in files:\n",
    "    wget.download(f, out=DATA_PATH)"
   ]
  }
 ],
 "metadata": {
  "kernelspec": {
   "display_name": "Python 3 (ipykernel)",
   "language": "python",
   "name": "python3"
  },
  "language_info": {
   "codemirror_mode": {
    "name": "ipython",
    "version": 3
   },
   "file_extension": ".py",
   "mimetype": "text/x-python",
   "name": "python",
   "nbconvert_exporter": "python",
   "pygments_lexer": "ipython3",
   "version": "3.8.10"
  }
 },
 "nbformat": 4,
 "nbformat_minor": 5
}
